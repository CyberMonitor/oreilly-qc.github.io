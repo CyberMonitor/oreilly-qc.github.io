{
 "cells": [
  {
   "cell_type": "markdown",
   "metadata": {},
   "source": [
    "![(book cover)](https://covers.oreillystatic.com/images/0636920167433/cat.gif \"(book cover)\")\n",
    "# \"Programming Quantum Computers\" by O'Reilly Media -  [book info](http://shop.oreilly.com/product/0636920167433.do)  - [all code samples](https://oreilly-qc.github.io)\n",
    "\n",
    "## Code samples for Chapter 7\n",
    "These code samples were written by Mariia Mykhailova."
   ]
  },
  {
   "cell_type": "markdown",
   "metadata": {},
   "source": [
    "### Example 7-1: Using QFT to distinguish between three states"
   ]
  },
  {
   "cell_type": "code",
   "execution_count": 1,
   "metadata": {},
   "outputs": [
    {
     "data": {
      "application/json": "[\"ClassifyState\",\"PrepareAndClassifyStates\",\"PrepareState\"]",
      "text/html": [
       "<ul><li>ClassifyState</li><li>PrepareAndClassifyStates</li><li>PrepareState</li></ul>"
      ],
      "text/plain": [
       "ClassifyState, PrepareAndClassifyStates, PrepareState"
      ]
     },
     "execution_count": 1,
     "metadata": {},
     "output_type": "execute_result"
    }
   ],
   "source": [
    "// Example 7-1: Using QFT to distinguish between three states\n",
    "\n",
    "open Microsoft.Quantum.Arithmetic;\n",
    "open Microsoft.Quantum.Diagnostics;\n",
    "\n",
    "operation PrepareState (register : Qubit[], state : String) : Unit {\n",
    "    ApplyToEach(H, register);\n",
    "    if (state == \"A\") {\n",
    "        Z(register[0]);\n",
    "    } elif (state == \"B\") {\n",
    "        S(register[0]);\n",
    "        Z(register[1]);\n",
    "    } else {\n",
    "        T(register[0]);\n",
    "        S(register[1]);\n",
    "        Z(register[2]);\n",
    "    }\n",
    "}\n",
    "\n",
    "// An operation that is given a register in one of the states A, B or C\n",
    "// and returns the letter of the state it recognized\n",
    "operation ClassifyState (register : Qubit[]) : String {\n",
    "    // Apply QFT\n",
    "    // (Q# library implementation of QFT is inverse compared to the one used in the book,\n",
    "    // so this code uses Adjoint QFTLE to match the desired effect).\n",
    "    Adjoint QFTLE(LittleEndian(register));\n",
    "    \n",
    "    // Uncomment this line to see the amplitudes after QFT\n",
    "    // DumpMachine();\n",
    "    \n",
    "    // Measure the register and interpret the results\n",
    "    let frequency = MeasureInteger(LittleEndian(register));\n",
    "    return frequency == 8 ? \"A\" | (frequency == 4 ? \"B\" | \"C\");\n",
    "}\n",
    "\n",
    "operation PrepareAndClassifyStates () : Unit {\n",
    "    using (register = Qubit[4]) {\n",
    "        for (inputState in [\"A\", \"B\", \"C\"]) {\n",
    "            // Prepare the register in the given state\n",
    "            PrepareState(register, inputState);\n",
    "            \n",
    "            // Uncomment this line to see the amplitudes of the prepared state\n",
    "            // DumpMachine();\n",
    "            \n",
    "            // Classify the state\n",
    "            let classifiedState = ClassifyState(register);\n",
    "            Message($\"State {inputState} recognized as {classifiedState}\");\n",
    "            \n",
    "            // Make sure to reset qubits to the |0❭ state before reusing/releasing them\n",
    "            ResetAll(register);\n",
    "        }\n",
    "    }\n",
    "}"
   ]
  },
  {
   "cell_type": "code",
   "execution_count": 2,
   "metadata": {
    "scrolled": true
   },
   "outputs": [
    {
     "name": "stdout",
     "output_type": "stream",
     "text": [
      "State A recognized as A\n",
      "State B recognized as B\n",
      "State C recognized as C\n"
     ]
    },
    {
     "data": {
      "application/json": "{\"@type\":\"tuple\"}",
      "text/plain": [
       "()"
      ]
     },
     "execution_count": 2,
     "metadata": {},
     "output_type": "execute_result"
    }
   ],
   "source": [
    "%simulate PrepareAndClassifyStates"
   ]
  },
  {
   "cell_type": "markdown",
   "metadata": {},
   "source": [
    "### Example 7-2: QFT of simple QPU register signal"
   ]
  },
  {
   "cell_type": "code",
   "execution_count": 3,
   "metadata": {},
   "outputs": [
    {
     "data": {
      "application/json": "[\"SimpleStateQFT\"]",
      "text/html": [
       "<ul><li>SimpleStateQFT</li></ul>"
      ],
      "text/plain": [
       "SimpleStateQFT"
      ]
     },
     "execution_count": 3,
     "metadata": {},
     "output_type": "execute_result"
    }
   ],
   "source": [
    "// Example 7-2: QFT of simple QPU register signal\n",
    "\n",
    "open Microsoft.Quantum.Arithmetic;\n",
    "open Microsoft.Quantum.Diagnostics;\n",
    "\n",
    "operation SimpleStateQFT () : Unit {\n",
    "    using (register = Qubit[4]) {\n",
    "        // use PrepareState operation from previous sample to prepare the state\n",
    "        PrepareState(register, \"C\");\n",
    "        \n",
    "        // Observe the amplitudes of the prepared state\n",
    "        DumpMachine();\n",
    "        \n",
    "        // Apply QFT\n",
    "        Adjoint QFTLE(LittleEndian(register));\n",
    "        \n",
    "        // Observe the amplitudes of the state after QFT transformation\n",
    "        DumpMachine();\n",
    "        \n",
    "        // Make sure to reset qubits to the |0❭ state before releasing them\n",
    "        ResetAll(register);\n",
    "    }\n",
    "}"
   ]
  },
  {
   "cell_type": "code",
   "execution_count": 4,
   "metadata": {
    "scrolled": false
   },
   "outputs": [
    {
     "name": "stdout",
     "output_type": "stream",
     "text": [
      "# wave function for qubits with ids (least to most significant): 0;1;2;3\n",
      "∣ 0❭:\t 0.250000 +  0.000000 i\t == \t**                   [ 0.062500 ]     --- [  0.00000 rad ]\n",
      "∣ 1❭:\t 0.176777 +  0.176777 i\t == \t**                   [ 0.062500 ]      /  [  0.78540 rad ]\n",
      "∣ 2❭:\t 0.000000 +  0.250000 i\t == \t**                   [ 0.062500 ]    ↑    [  1.57080 rad ]\n",
      "∣ 3❭:\t-0.176777 +  0.176777 i\t == \t**                   [ 0.062500 ]  \\      [  2.35619 rad ]\n",
      "∣ 4❭:\t-0.250000 +  0.000000 i\t == \t**                   [ 0.062500 ] ---     [  3.14159 rad ]\n",
      "∣ 5❭:\t-0.176777 + -0.176777 i\t == \t**                   [ 0.062500 ]  /      [ -2.35619 rad ]\n",
      "∣ 6❭:\t 0.000000 + -0.250000 i\t == \t**                   [ 0.062500 ]    ↓    [ -1.57080 rad ]\n",
      "∣ 7❭:\t 0.176777 + -0.176777 i\t == \t**                   [ 0.062500 ]      \\  [ -0.78540 rad ]\n",
      "∣ 8❭:\t 0.250000 +  0.000000 i\t == \t**                   [ 0.062500 ]     --- [  0.00000 rad ]\n",
      "∣ 9❭:\t 0.176777 +  0.176777 i\t == \t**                   [ 0.062500 ]      /  [  0.78540 rad ]\n",
      "∣10❭:\t 0.000000 +  0.250000 i\t == \t**                   [ 0.062500 ]    ↑    [  1.57080 rad ]\n",
      "∣11❭:\t-0.176777 +  0.176777 i\t == \t**                   [ 0.062500 ]  \\      [  2.35619 rad ]\n",
      "∣12❭:\t-0.250000 +  0.000000 i\t == \t**                   [ 0.062500 ] ---     [  3.14159 rad ]\n",
      "∣13❭:\t-0.176777 + -0.176777 i\t == \t**                   [ 0.062500 ]  /      [ -2.35619 rad ]\n",
      "∣14❭:\t 0.000000 + -0.250000 i\t == \t**                   [ 0.062500 ]    ↓    [ -1.57080 rad ]\n",
      "∣15❭:\t 0.176777 + -0.176777 i\t == \t**                   [ 0.062500 ]      \\  [ -0.78540 rad ]\n",
      "# wave function for qubits with ids (least to most significant): 0;1;2;3\n",
      "∣ 0❭:\t-0.000000 + -0.000000 i\t == \t*                    [ 0.000000 ]    ↓    [ -1.57080 rad ]\n",
      "∣ 1❭:\t 0.000000 +  0.000000 i\t == \t*                    [ 0.000000 ]     +/  [  1.01107 rad ]\n",
      "∣ 2❭:\t 1.000000 + -0.000000 i\t == \t********************* [ 1.000000 ]     --- [ -0.00000 rad ]\n",
      "∣ 3❭:\t-0.000000 +  0.000000 i\t == \t*                    [ 0.000000 ]  \\-     [  2.01037 rad ]\n",
      "∣ 4❭:\t-0.000000 +  0.000000 i\t == \t*                    [ 0.000000 ]    ↑    [  1.57080 rad ]\n",
      "∣ 5❭:\t 0.000000 +  0.000000 i\t == \t*                    [ 0.000000 ]      /  [  0.67510 rad ]\n",
      "∣ 6❭:\t 0.000000 + -0.000000 i\t == \t*                    [ 0.000000 ]      \\+ [ -0.34271 rad ]\n",
      "∣ 7❭:\t-0.000000 +  0.000000 i\t == \t*                    [ 0.000000 ]    ↑    [  1.65589 rad ]\n",
      "∣ 8❭:\t-0.000000 +  0.000000 i\t == \t*                    [ 0.000000 ]    ↑    [  1.57080 rad ]\n",
      "∣ 9❭:\t-0.000000 + -0.000000 i\t == \t*                    [ 0.000000 ]  /      [ -2.27767 rad ]\n",
      "∣10❭:\t 0.000000 +  0.000000 i\t == \t*                    [ 0.000000 ]      /- [  0.58567 rad ]\n",
      "∣11❭:\t 0.000000 + -0.000000 i\t == \t*                    [ 0.000000 ]    ↓    [ -1.42773 rad ]\n",
      "∣12❭:\t-0.000000 + -0.000000 i\t == \t*                    [ 0.000000 ]    ↓    [ -1.57080 rad ]\n",
      "∣13❭:\t-0.000000 + -0.000000 i\t == \t*                    [ 0.000000 ]  /      [ -2.41639 rad ]\n",
      "∣14❭:\t-0.000000 +  0.000000 i\t == \t*                    [ 0.000000 ] +\\      [  2.79888 rad ]\n",
      "∣15❭:\t 0.000000 + -0.000000 i\t == \t*                    [ 0.000000 ]     -\\  [ -1.01458 rad ]\n"
     ]
    },
    {
     "data": {
      "application/json": "{\"@type\":\"tuple\"}",
      "text/plain": [
       "()"
      ]
     },
     "execution_count": 4,
     "metadata": {},
     "output_type": "execute_result"
    }
   ],
   "source": [
    "%simulate SimpleStateQFT"
   ]
  },
  {
   "cell_type": "markdown",
   "metadata": {},
   "source": [
    "### Example 7-3: Square-wave QFT"
   ]
  },
  {
   "cell_type": "code",
   "execution_count": 5,
   "metadata": {},
   "outputs": [
    {
     "data": {
      "application/json": "[\"SquareWaveQFT\"]",
      "text/html": [
       "<ul><li>SquareWaveQFT</li></ul>"
      ],
      "text/plain": [
       "SquareWaveQFT"
      ]
     },
     "execution_count": 5,
     "metadata": {},
     "output_type": "execute_result"
    }
   ],
   "source": [
    "// Example 7-3: Square-wave QFT\n",
    "\n",
    "open Microsoft.Quantum.Arithmetic;\n",
    "open Microsoft.Quantum.Diagnostics;\n",
    "\n",
    "operation SquareWaveQFT () : Unit {\n",
    "    using (register = Qubit[4]) {\n",
    "        let wavePeriod = 2;   // can range from 1 to 4\n",
    "        // Prepare the state\n",
    "        ApplyToEach(H, register);\n",
    "        Z(register[wavePeriod - 1]);\n",
    "        \n",
    "        // Observe the amplitudes of the prepared state\n",
    "        DumpMachine();\n",
    "        \n",
    "        // Apply QFT\n",
    "        Adjoint QFTLE(LittleEndian(register));\n",
    "        \n",
    "        // Observe the amplitudes of the state after QFT transformation\n",
    "        DumpMachine();\n",
    "        \n",
    "        // Make sure to reset qubits to the |0❭ state before releasing them\n",
    "        ResetAll(register);\n",
    "    }\n",
    "}"
   ]
  },
  {
   "cell_type": "code",
   "execution_count": 6,
   "metadata": {
    "scrolled": true
   },
   "outputs": [
    {
     "name": "stdout",
     "output_type": "stream",
     "text": [
      "# wave function for qubits with ids (least to most significant): 0;1;2;3\n",
      "∣ 0❭:\t 0.250000 +  0.000000 i\t == \t**                   [ 0.062500 ]     --- [  0.00000 rad ]\n",
      "∣ 1❭:\t 0.250000 +  0.000000 i\t == \t**                   [ 0.062500 ]     --- [  0.00000 rad ]\n",
      "∣ 2❭:\t-0.250000 +  0.000000 i\t == \t**                   [ 0.062500 ] ---     [  3.14159 rad ]\n",
      "∣ 3❭:\t-0.250000 +  0.000000 i\t == \t**                   [ 0.062500 ] ---     [  3.14159 rad ]\n",
      "∣ 4❭:\t 0.250000 +  0.000000 i\t == \t**                   [ 0.062500 ]     --- [  0.00000 rad ]\n",
      "∣ 5❭:\t 0.250000 +  0.000000 i\t == \t**                   [ 0.062500 ]     --- [  0.00000 rad ]\n",
      "∣ 6❭:\t-0.250000 +  0.000000 i\t == \t**                   [ 0.062500 ] ---     [  3.14159 rad ]\n",
      "∣ 7❭:\t-0.250000 +  0.000000 i\t == \t**                   [ 0.062500 ] ---     [  3.14159 rad ]\n",
      "∣ 8❭:\t 0.250000 +  0.000000 i\t == \t**                   [ 0.062500 ]     --- [  0.00000 rad ]\n",
      "∣ 9❭:\t 0.250000 +  0.000000 i\t == \t**                   [ 0.062500 ]     --- [  0.00000 rad ]\n",
      "∣10❭:\t-0.250000 +  0.000000 i\t == \t**                   [ 0.062500 ] ---     [  3.14159 rad ]\n",
      "∣11❭:\t-0.250000 +  0.000000 i\t == \t**                   [ 0.062500 ] ---     [  3.14159 rad ]\n",
      "∣12❭:\t 0.250000 +  0.000000 i\t == \t**                   [ 0.062500 ]     --- [  0.00000 rad ]\n",
      "∣13❭:\t 0.250000 +  0.000000 i\t == \t**                   [ 0.062500 ]     --- [  0.00000 rad ]\n",
      "∣14❭:\t-0.250000 +  0.000000 i\t == \t**                   [ 0.062500 ] ---     [  3.14159 rad ]\n",
      "∣15❭:\t-0.250000 +  0.000000 i\t == \t**                   [ 0.062500 ] ---     [  3.14159 rad ]\n",
      "# wave function for qubits with ids (least to most significant): 0;1;2;3\n",
      "∣ 0❭:\t-0.000000 +  0.000000 i\t == \t*                    [ 0.000000 ] ---     [  3.14159 rad ]\n",
      "∣ 1❭:\t 0.000000 + -0.000000 i\t == \t*                    [ 0.000000 ]      \\+ [ -0.58279 rad ]\n",
      "∣ 2❭:\t-0.000000 + -0.000000 i\t == \t*                    [ 0.000000 ] -/      [ -2.74889 rad ]\n",
      "∣ 3❭:\t-0.000000 +  0.000000 i\t == \t*                    [ 0.000000 ] +\\      [  2.93117 rad ]\n",
      "∣ 4❭:\t 0.500000 + -0.500000 i\t == \t***********          [ 0.500000 ]      \\  [ -0.78540 rad ]\n",
      "∣ 5❭:\t 0.000000 +  0.000000 i\t == \t*                    [ 0.000000 ]      /  [  0.66228 rad ]\n",
      "∣ 6❭:\t 0.000000 +  0.000000 i\t == \t*                    [ 0.000000 ]     +/  [  1.17810 rad ]\n",
      "∣ 7❭:\t 0.000000 +  0.000000 i\t == \t*                    [ 0.000000 ]      /  [  0.71570 rad ]\n",
      "∣ 8❭:\t 0.000000 +  0.000000 i\t == \t*                    [ 0.000000 ]     --- [  0.00000 rad ]\n",
      "∣ 9❭:\t 0.000000 + -0.000000 i\t == \t*                    [ 0.000000 ]      \\  [ -0.63915 rad ]\n",
      "∣10❭:\t 0.000000 + -0.000000 i\t == \t*                    [ 0.000000 ]     -\\  [ -1.17810 rad ]\n",
      "∣11❭:\t-0.000000 + -0.000000 i\t == \t*                    [ 0.000000 ]  /+     [ -1.99800 rad ]\n",
      "∣12❭:\t 0.500000 +  0.500000 i\t == \t***********          [ 0.500000 ]      /  [  0.78540 rad ]\n",
      "∣13❭:\t-0.000000 +  0.000000 i\t == \t*                    [ 0.000000 ] ---     [  3.12916 rad ]\n",
      "∣14❭:\t-0.000000 +  0.000000 i\t == \t*                    [ 0.000000 ] +\\      [  2.74889 rad ]\n",
      "∣15❭:\t-0.000000 + -0.000000 i\t == \t*                    [ 0.000000 ]  /+     [ -1.99753 rad ]\n"
     ]
    },
    {
     "data": {
      "application/json": "{\"@type\":\"tuple\"}",
      "text/plain": [
       "()"
      ]
     },
     "execution_count": 6,
     "metadata": {},
     "output_type": "execute_result"
    }
   ],
   "source": [
    "%simulate SquareWaveQFT"
   ]
  },
  {
   "cell_type": "markdown",
   "metadata": {},
   "source": [
    "### Example 7-4: Square-wave QFT on a qubyte"
   ]
  },
  {
   "cell_type": "code",
   "execution_count": 7,
   "metadata": {},
   "outputs": [
    {
     "data": {
      "application/json": "[\"SquareWaveQFTQubyte\"]",
      "text/html": [
       "<ul><li>SquareWaveQFTQubyte</li></ul>"
      ],
      "text/plain": [
       "SquareWaveQFTQubyte"
      ]
     },
     "execution_count": 7,
     "metadata": {},
     "output_type": "execute_result"
    }
   ],
   "source": [
    "// Example 7-4: Square-wave QFT on a qubyte\n",
    "\n",
    "open Microsoft.Quantum.Arithmetic;\n",
    "open Microsoft.Quantum.Diagnostics;\n",
    "\n",
    "operation SquareWaveQFTQubyte () : Unit {\n",
    "    using (register = Qubit[8]) {\n",
    "        // Prepare the state\n",
    "        ApplyToEach(H, register);\n",
    "        Z(register[4]);\n",
    "        \n",
    "        // Observe the amplitudes of the prepared state\n",
    "        DumpMachine();\n",
    "        \n",
    "        // Apply QFT\n",
    "        Adjoint QFTLE(LittleEndian(register));\n",
    "        \n",
    "        // Observe the amplitudes of the state after QFT transformation\n",
    "        DumpMachine();\n",
    "        \n",
    "        // Make sure to reset qubits to the |0❭ state before releasing them\n",
    "        ResetAll(register);\n",
    "    }\n",
    "}"
   ]
  },
  {
   "cell_type": "markdown",
   "metadata": {},
   "source": [
    "*(output of the next cell is not shown due to its size; run the cell to generate the output)*"
   ]
  },
  {
   "cell_type": "code",
   "execution_count": null,
   "metadata": {
    "scrolled": false
   },
   "outputs": [],
   "source": [
    "%simulate SquareWaveQFTQubyte"
   ]
  },
  {
   "cell_type": "markdown",
   "metadata": {},
   "source": [
    "### Example 7-5: Converting frequency into state"
   ]
  },
  {
   "cell_type": "code",
   "execution_count": 9,
   "metadata": {},
   "outputs": [
    {
     "data": {
      "application/json": "[\"FrequencyToState\"]",
      "text/html": [
       "<ul><li>FrequencyToState</li></ul>"
      ],
      "text/plain": [
       "FrequencyToState"
      ]
     },
     "execution_count": 9,
     "metadata": {},
     "output_type": "execute_result"
    }
   ],
   "source": [
    "// Example 7-5: Converting frequency into state\n",
    "\n",
    "open Microsoft.Quantum.Arithmetic;\n",
    "open Microsoft.Quantum.Diagnostics;\n",
    "\n",
    "operation FrequencyToState () : Unit {\n",
    "    using (register = Qubit[4]) {\n",
    "        // Write frequency to register\n",
    "        X(register[0]);\n",
    "        X(register[1]);\n",
    "        \n",
    "        // Observe the amplitudes of the prepared state\n",
    "        DumpMachine();\n",
    "        \n",
    "        // Apply QFT\n",
    "        QFTLE(LittleEndian(register));\n",
    "        \n",
    "        // Observe the amplitudes of the state after QFT transformation\n",
    "        DumpMachine();\n",
    "        \n",
    "        // Make sure to reset qubits to the |0❭ state before releasing them\n",
    "        ResetAll(register);\n",
    "    }\n",
    "}"
   ]
  },
  {
   "cell_type": "code",
   "execution_count": 10,
   "metadata": {
    "scrolled": false
   },
   "outputs": [
    {
     "name": "stdout",
     "output_type": "stream",
     "text": [
      "# wave function for qubits with ids (least to most significant): 0;1;2;3\n",
      "∣ 0❭:\t 0.000000 +  0.000000 i\t == \t                     [ 0.000000 ]                   \n",
      "∣ 1❭:\t 0.000000 +  0.000000 i\t == \t                     [ 0.000000 ]                   \n",
      "∣ 2❭:\t 0.000000 +  0.000000 i\t == \t                     [ 0.000000 ]                   \n",
      "∣ 3❭:\t 1.000000 +  0.000000 i\t == \t******************** [ 1.000000 ]     --- [  0.00000 rad ]\n",
      "∣ 4❭:\t 0.000000 +  0.000000 i\t == \t                     [ 0.000000 ]                   \n",
      "∣ 5❭:\t 0.000000 +  0.000000 i\t == \t                     [ 0.000000 ]                   \n",
      "∣ 6❭:\t 0.000000 +  0.000000 i\t == \t                     [ 0.000000 ]                   \n",
      "∣ 7❭:\t 0.000000 +  0.000000 i\t == \t                     [ 0.000000 ]                   \n",
      "∣ 8❭:\t 0.000000 +  0.000000 i\t == \t                     [ 0.000000 ]                   \n",
      "∣ 9❭:\t 0.000000 +  0.000000 i\t == \t                     [ 0.000000 ]                   \n",
      "∣10❭:\t 0.000000 +  0.000000 i\t == \t                     [ 0.000000 ]                   \n",
      "∣11❭:\t 0.000000 +  0.000000 i\t == \t                     [ 0.000000 ]                   \n",
      "∣12❭:\t 0.000000 +  0.000000 i\t == \t                     [ 0.000000 ]                   \n",
      "∣13❭:\t 0.000000 +  0.000000 i\t == \t                     [ 0.000000 ]                   \n",
      "∣14❭:\t 0.000000 +  0.000000 i\t == \t                     [ 0.000000 ]                   \n",
      "∣15❭:\t 0.000000 +  0.000000 i\t == \t                     [ 0.000000 ]                   \n",
      "# wave function for qubits with ids (least to most significant): 0;1;2;3\n",
      "∣ 0❭:\t 0.250000 +  0.000000 i\t == \t**                   [ 0.062500 ]     --- [  0.00000 rad ]\n",
      "∣ 1❭:\t 0.095671 +  0.230970 i\t == \t**                   [ 0.062500 ]     +/  [  1.17810 rad ]\n",
      "∣ 2❭:\t-0.176777 +  0.176777 i\t == \t**                   [ 0.062500 ]  \\      [  2.35619 rad ]\n",
      "∣ 3❭:\t-0.230970 + -0.095671 i\t == \t**                   [ 0.062500 ] -/      [ -2.74889 rad ]\n",
      "∣ 4❭:\t 0.000000 + -0.250000 i\t == \t**                   [ 0.062500 ]    ↓    [ -1.57080 rad ]\n",
      "∣ 5❭:\t 0.230970 + -0.095671 i\t == \t**                   [ 0.062500 ]      \\+ [ -0.39270 rad ]\n",
      "∣ 6❭:\t 0.176777 +  0.176777 i\t == \t**                   [ 0.062500 ]      /  [  0.78540 rad ]\n",
      "∣ 7❭:\t-0.095671 +  0.230970 i\t == \t**                   [ 0.062500 ]  \\-     [  1.96350 rad ]\n",
      "∣ 8❭:\t-0.250000 +  0.000000 i\t == \t**                   [ 0.062500 ] ---     [  3.14159 rad ]\n",
      "∣ 9❭:\t-0.095671 + -0.230970 i\t == \t**                   [ 0.062500 ]  /+     [ -1.96350 rad ]\n",
      "∣10❭:\t 0.176777 + -0.176777 i\t == \t**                   [ 0.062500 ]      \\  [ -0.78540 rad ]\n",
      "∣11❭:\t 0.230970 +  0.095671 i\t == \t**                   [ 0.062500 ]      /- [  0.39270 rad ]\n",
      "∣12❭:\t 0.000000 +  0.250000 i\t == \t**                   [ 0.062500 ]    ↑    [  1.57080 rad ]\n",
      "∣13❭:\t-0.230970 +  0.095671 i\t == \t**                   [ 0.062500 ] +\\      [  2.74889 rad ]\n",
      "∣14❭:\t-0.176777 + -0.176777 i\t == \t**                   [ 0.062500 ]  /      [ -2.35619 rad ]\n",
      "∣15❭:\t 0.095671 + -0.230970 i\t == \t**                   [ 0.062500 ]     -\\  [ -1.17810 rad ]\n"
     ]
    },
    {
     "data": {
      "application/json": "{\"@type\":\"tuple\"}",
      "text/plain": [
       "()"
      ]
     },
     "execution_count": 10,
     "metadata": {},
     "output_type": "execute_result"
    }
   ],
   "source": [
    "%simulate FrequencyToState"
   ]
  },
  {
   "cell_type": "markdown",
   "metadata": {},
   "source": [
    "### Example 7-6: Prepare a state with varying ampitudes using QFT"
   ]
  },
  {
   "cell_type": "code",
   "execution_count": 11,
   "metadata": {},
   "outputs": [
    {
     "data": {
      "application/json": "[\"PrepareStateWithQFT\"]",
      "text/html": [
       "<ul><li>PrepareStateWithQFT</li></ul>"
      ],
      "text/plain": [
       "PrepareStateWithQFT"
      ]
     },
     "execution_count": 11,
     "metadata": {},
     "output_type": "execute_result"
    }
   ],
   "source": [
    "// Example 7-6: Prepare a state with varying ampitudes using QFT\n",
    "\n",
    "open Microsoft.Quantum.Arithmetic;\n",
    "open Microsoft.Quantum.Arrays;\n",
    "open Microsoft.Quantum.Diagnostics;\n",
    "\n",
    "operation PrepareStateWithQFT () : Unit {\n",
    "    using (register = Qubit[4]) {\n",
    "        // Write the frequencies we want to register (a superposition of |1❭ and |15❭)\n",
    "        H(register[0]);\n",
    "        ApplyToEach(CNOT(Head(register), _), Rest(register));\n",
    "        X(register[1]);\n",
    "        CNOT(register[1], register[0]);\n",
    "        X(register[1]);\n",
    "        \n",
    "        // Observe the amplitudes of the prepared state\n",
    "        DumpMachine();\n",
    "        \n",
    "        // Apply QFT\n",
    "        QFTLE(LittleEndian(register));\n",
    "        \n",
    "        // Observe the amplitudes of the state after QFT transformation\n",
    "        DumpMachine();\n",
    "        \n",
    "        // Make sure to reset qubits to the |0❭ state before releasing them\n",
    "        ResetAll(register);\n",
    "    }\n",
    "}"
   ]
  },
  {
   "cell_type": "code",
   "execution_count": 12,
   "metadata": {
    "scrolled": true
   },
   "outputs": [
    {
     "name": "stdout",
     "output_type": "stream",
     "text": [
      "# wave function for qubits with ids (least to most significant): 0;1;2;3\n",
      "∣ 0❭:\t 0.000000 +  0.000000 i\t == \t                     [ 0.000000 ]                   \n",
      "∣ 1❭:\t 0.707107 +  0.000000 i\t == \t***********          [ 0.500000 ]     --- [  0.00000 rad ]\n",
      "∣ 2❭:\t 0.000000 +  0.000000 i\t == \t                     [ 0.000000 ]                   \n",
      "∣ 3❭:\t 0.000000 +  0.000000 i\t == \t                     [ 0.000000 ]                   \n",
      "∣ 4❭:\t 0.000000 +  0.000000 i\t == \t                     [ 0.000000 ]                   \n",
      "∣ 5❭:\t 0.000000 +  0.000000 i\t == \t                     [ 0.000000 ]                   \n",
      "∣ 6❭:\t 0.000000 +  0.000000 i\t == \t                     [ 0.000000 ]                   \n",
      "∣ 7❭:\t 0.000000 +  0.000000 i\t == \t                     [ 0.000000 ]                   \n",
      "∣ 8❭:\t 0.000000 +  0.000000 i\t == \t                     [ 0.000000 ]                   \n",
      "∣ 9❭:\t 0.000000 +  0.000000 i\t == \t                     [ 0.000000 ]                   \n",
      "∣10❭:\t 0.000000 +  0.000000 i\t == \t                     [ 0.000000 ]                   \n",
      "∣11❭:\t 0.000000 +  0.000000 i\t == \t                     [ 0.000000 ]                   \n",
      "∣12❭:\t 0.000000 +  0.000000 i\t == \t                     [ 0.000000 ]                   \n",
      "∣13❭:\t 0.000000 +  0.000000 i\t == \t                     [ 0.000000 ]                   \n",
      "∣14❭:\t 0.000000 +  0.000000 i\t == \t                     [ 0.000000 ]                   \n",
      "∣15❭:\t 0.707107 +  0.000000 i\t == \t***********          [ 0.500000 ]     --- [  0.00000 rad ]\n",
      "# wave function for qubits with ids (least to most significant): 0;1;2;3\n",
      "∣ 0❭:\t 0.353553 +  0.000000 i\t == \t***                  [ 0.125000 ]     --- [  0.00000 rad ]\n",
      "∣ 1❭:\t 0.326641 + -0.000000 i\t == \t***                  [ 0.106694 ]     --- [ -0.00000 rad ]\n",
      "∣ 2❭:\t 0.250000 +  0.000000 i\t == \t**                   [ 0.062500 ]     --- [  0.00000 rad ]\n",
      "∣ 3❭:\t 0.135299 +  0.000000 i\t == \t*                    [ 0.018306 ]     --- [  0.00000 rad ]\n",
      "∣ 4❭:\t 0.000000 + -0.000000 i\t == \t*                    [ 0.000000 ]    ↓    [ -1.57080 rad ]\n",
      "∣ 5❭:\t-0.135299 +  0.000000 i\t == \t*                    [ 0.018306 ] ---     [  3.14159 rad ]\n",
      "∣ 6❭:\t-0.250000 + -0.000000 i\t == \t**                   [ 0.062500 ]     --- [ -3.14159 rad ]\n",
      "∣ 7❭:\t-0.326641 +  0.000000 i\t == \t***                  [ 0.106694 ] ---     [  3.14159 rad ]\n",
      "∣ 8❭:\t-0.353553 +  0.000000 i\t == \t***                  [ 0.125000 ] ---     [  3.14159 rad ]\n",
      "∣ 9❭:\t-0.326641 +  0.000000 i\t == \t***                  [ 0.106694 ] ---     [  3.14159 rad ]\n",
      "∣10❭:\t-0.250000 + -0.000000 i\t == \t**                   [ 0.062500 ]     --- [ -3.14159 rad ]\n",
      "∣11❭:\t-0.135299 + -0.000000 i\t == \t*                    [ 0.018306 ]     --- [ -3.14159 rad ]\n",
      "∣12❭:\t 0.000000 +  0.000000 i\t == \t*                    [ 0.000000 ]    ↑    [  1.57080 rad ]\n",
      "∣13❭:\t 0.135299 + -0.000000 i\t == \t*                    [ 0.018306 ]     --- [ -0.00000 rad ]\n",
      "∣14❭:\t 0.250000 +  0.000000 i\t == \t**                   [ 0.062500 ]     --- [  0.00000 rad ]\n",
      "∣15❭:\t 0.326641 + -0.000000 i\t == \t***                  [ 0.106694 ]     --- [ -0.00000 rad ]\n"
     ]
    },
    {
     "data": {
      "application/json": "{\"@type\":\"tuple\"}",
      "text/plain": [
       "()"
      ]
     },
     "execution_count": 12,
     "metadata": {},
     "output_type": "execute_result"
    }
   ],
   "source": [
    "%simulate PrepareStateWithQFT"
   ]
  },
  {
   "cell_type": "markdown",
   "metadata": {},
   "source": [
    "### Example 7-7: QFT frequency manipulation"
   ]
  },
  {
   "cell_type": "code",
   "execution_count": 13,
   "metadata": {},
   "outputs": [
    {
     "data": {
      "application/json": "[\"QFTFrequencyManipulation\"]",
      "text/html": [
       "<ul><li>QFTFrequencyManipulation</li></ul>"
      ],
      "text/plain": [
       "QFTFrequencyManipulation"
      ]
     },
     "execution_count": 13,
     "metadata": {},
     "output_type": "execute_result"
    }
   ],
   "source": [
    "// Example 7-7: QFT frequency manipulation\n",
    "\n",
    "open Microsoft.Quantum.Arithmetic;\n",
    "open Microsoft.Quantum.Diagnostics;\n",
    "\n",
    "operation QFTFrequencyManipulation () : Unit {\n",
    "    using (register = Qubit[4]) {\n",
    "        // Write frequency to register\n",
    "        X(register[1]);\n",
    "        // Uncomment the line below to observe the amplitudes of the prepared state\n",
    "        // DumpMachine();\n",
    "        \n",
    "        // Apply QFT to prepare our initial state\n",
    "        let registerLE = LittleEndian(register);\n",
    "        QFTLE(registerLE);\n",
    "        // Observe the amplitudes of the initial state\n",
    "        DumpMachine();\n",
    "        \n",
    "        // Move back to frequency space\n",
    "        Adjoint QFTLE(registerLE);\n",
    "        \n",
    "        // Increase the frequency of the signal\n",
    "        IncrementByInteger(1, registerLE);\n",
    "        \n",
    "        // Move back to signal space\n",
    "        QFTLE(registerLE);\n",
    "        // Observe the amplitudes of the resulting state\n",
    "        DumpMachine();\n",
    "        \n",
    "        // Make sure to reset qubits to the |0❭ state before releasing them\n",
    "        ResetAll(register);\n",
    "    }\n",
    "}"
   ]
  },
  {
   "cell_type": "code",
   "execution_count": 14,
   "metadata": {
    "scrolled": false
   },
   "outputs": [
    {
     "name": "stdout",
     "output_type": "stream",
     "text": [
      "# wave function for qubits with ids (least to most significant): 0;1;2;3\n",
      "∣ 0❭:\t 0.250000 +  0.000000 i\t == \t**                   [ 0.062500 ]     --- [  0.00000 rad ]\n",
      "∣ 1❭:\t 0.176777 +  0.176777 i\t == \t**                   [ 0.062500 ]      /  [  0.78540 rad ]\n",
      "∣ 2❭:\t 0.000000 +  0.250000 i\t == \t**                   [ 0.062500 ]    ↑    [  1.57080 rad ]\n",
      "∣ 3❭:\t-0.176777 +  0.176777 i\t == \t**                   [ 0.062500 ]  \\      [  2.35619 rad ]\n",
      "∣ 4❭:\t-0.250000 +  0.000000 i\t == \t**                   [ 0.062500 ] ---     [  3.14159 rad ]\n",
      "∣ 5❭:\t-0.176777 + -0.176777 i\t == \t**                   [ 0.062500 ]  /      [ -2.35619 rad ]\n",
      "∣ 6❭:\t 0.000000 + -0.250000 i\t == \t**                   [ 0.062500 ]    ↓    [ -1.57080 rad ]\n",
      "∣ 7❭:\t 0.176777 + -0.176777 i\t == \t**                   [ 0.062500 ]      \\  [ -0.78540 rad ]\n",
      "∣ 8❭:\t 0.250000 +  0.000000 i\t == \t**                   [ 0.062500 ]     --- [  0.00000 rad ]\n",
      "∣ 9❭:\t 0.176777 +  0.176777 i\t == \t**                   [ 0.062500 ]      /  [  0.78540 rad ]\n",
      "∣10❭:\t 0.000000 +  0.250000 i\t == \t**                   [ 0.062500 ]    ↑    [  1.57080 rad ]\n",
      "∣11❭:\t-0.176777 +  0.176777 i\t == \t**                   [ 0.062500 ]  \\      [  2.35619 rad ]\n",
      "∣12❭:\t-0.250000 +  0.000000 i\t == \t**                   [ 0.062500 ] ---     [  3.14159 rad ]\n",
      "∣13❭:\t-0.176777 + -0.176777 i\t == \t**                   [ 0.062500 ]  /      [ -2.35619 rad ]\n",
      "∣14❭:\t 0.000000 + -0.250000 i\t == \t**                   [ 0.062500 ]    ↓    [ -1.57080 rad ]\n",
      "∣15❭:\t 0.176777 + -0.176777 i\t == \t**                   [ 0.062500 ]      \\  [ -0.78540 rad ]\n",
      "# wave function for qubits with ids (least to most significant): 0;1;2;3\n",
      "∣ 0❭:\t 0.250000 + -0.000000 i\t == \t**                   [ 0.062500 ]     --- [ -0.00000 rad ]\n",
      "∣ 1❭:\t 0.095671 +  0.230970 i\t == \t**                   [ 0.062500 ]     +/  [  1.17810 rad ]\n",
      "∣ 2❭:\t-0.176777 +  0.176777 i\t == \t**                   [ 0.062500 ]  \\      [  2.35619 rad ]\n",
      "∣ 3❭:\t-0.230970 + -0.095671 i\t == \t**                   [ 0.062500 ] -/      [ -2.74889 rad ]\n",
      "∣ 4❭:\t-0.000000 + -0.250000 i\t == \t**                   [ 0.062500 ]    ↓    [ -1.57080 rad ]\n",
      "∣ 5❭:\t 0.230970 + -0.095671 i\t == \t**                   [ 0.062500 ]      \\+ [ -0.39270 rad ]\n",
      "∣ 6❭:\t 0.176777 +  0.176777 i\t == \t**                   [ 0.062500 ]      /  [  0.78540 rad ]\n",
      "∣ 7❭:\t-0.095671 +  0.230970 i\t == \t**                   [ 0.062500 ]  \\-     [  1.96350 rad ]\n",
      "∣ 8❭:\t-0.250000 +  0.000000 i\t == \t**                   [ 0.062500 ] ---     [  3.14159 rad ]\n",
      "∣ 9❭:\t-0.095671 + -0.230970 i\t == \t**                   [ 0.062500 ]  /+     [ -1.96350 rad ]\n",
      "∣10❭:\t 0.176777 + -0.176777 i\t == \t**                   [ 0.062500 ]      \\  [ -0.78540 rad ]\n",
      "∣11❭:\t 0.230970 +  0.095671 i\t == \t**                   [ 0.062500 ]      /- [  0.39270 rad ]\n",
      "∣12❭:\t 0.000000 +  0.250000 i\t == \t**                   [ 0.062500 ]    ↑    [  1.57080 rad ]\n",
      "∣13❭:\t-0.230970 +  0.095671 i\t == \t**                   [ 0.062500 ] +\\      [  2.74889 rad ]\n",
      "∣14❭:\t-0.176777 + -0.176777 i\t == \t**                   [ 0.062500 ]  /      [ -2.35619 rad ]\n",
      "∣15❭:\t 0.095671 + -0.230970 i\t == \t**                   [ 0.062500 ]     -\\  [ -1.17810 rad ]\n"
     ]
    },
    {
     "data": {
      "application/json": "{\"@type\":\"tuple\"}",
      "text/plain": [
       "()"
      ]
     },
     "execution_count": 14,
     "metadata": {},
     "output_type": "execute_result"
    }
   ],
   "source": [
    "%simulate QFTFrequencyManipulation"
   ]
  },
  {
   "cell_type": "markdown",
   "metadata": {},
   "source": [
    "### Example 7-8: Rotating phases by different angles"
   ]
  },
  {
   "cell_type": "code",
   "execution_count": 15,
   "metadata": {},
   "outputs": [
    {
     "data": {
      "application/json": "[\"RotatingPhases\"]",
      "text/html": [
       "<ul><li>RotatingPhases</li></ul>"
      ],
      "text/plain": [
       "RotatingPhases"
      ]
     },
     "execution_count": 15,
     "metadata": {},
     "output_type": "execute_result"
    }
   ],
   "source": [
    "// Example 7-8: Rotating phases by different angles\n",
    "\n",
    "open Microsoft.Quantum.Convert;\n",
    "open Microsoft.Quantum.Diagnostics;\n",
    "open Microsoft.Quantum.Math;\n",
    "\n",
    "operation RotatingPhases () : Unit {\n",
    "    // Rotate k-th basis state by k*20 degrees\n",
    "    let phi = 20.0 / 180.0 * PI();  // the rotation angle in radians\n",
    "    \n",
    "    using (register = Qubit[4]) {\n",
    "        // Put the register in superposition of all basis states to see all results at once\n",
    "        ApplyToEach(H, register);\n",
    "        // DumpMachine();\n",
    "        \n",
    "        for (i in 0 .. 3) {\n",
    "            R1(phi * IntAsDouble(1 <<< i), register[i]);\n",
    "        }\n",
    "        \n",
    "        // Observe the amplitudes of the resulting state\n",
    "        DumpMachine();\n",
    "        \n",
    "        // Make sure to reset qubits to the |0❭ state before releasing them\n",
    "        ResetAll(register);\n",
    "    }\n",
    "}"
   ]
  },
  {
   "cell_type": "code",
   "execution_count": 16,
   "metadata": {
    "scrolled": false
   },
   "outputs": [
    {
     "name": "stdout",
     "output_type": "stream",
     "text": [
      "# wave function for qubits with ids (least to most significant): 0;1;2;3\n",
      "∣ 0❭:\t 0.250000 +  0.000000 i\t == \t**                   [ 0.062500 ]     --- [  0.00000 rad ]\n",
      "∣ 1❭:\t 0.234923 +  0.085505 i\t == \t**                   [ 0.062500 ]      /- [  0.34907 rad ]\n",
      "∣ 2❭:\t 0.191511 +  0.160697 i\t == \t**                   [ 0.062500 ]      /  [  0.69813 rad ]\n",
      "∣ 3❭:\t 0.125000 +  0.216506 i\t == \t**                   [ 0.062500 ]     +/  [  1.04720 rad ]\n",
      "∣ 4❭:\t 0.043412 +  0.246202 i\t == \t**                   [ 0.062500 ]    ↑    [  1.39626 rad ]\n",
      "∣ 5❭:\t-0.043412 +  0.246202 i\t == \t**                   [ 0.062500 ]    ↑    [  1.74533 rad ]\n",
      "∣ 6❭:\t-0.125000 +  0.216506 i\t == \t**                   [ 0.062500 ]  \\-     [  2.09440 rad ]\n",
      "∣ 7❭:\t-0.191511 +  0.160697 i\t == \t**                   [ 0.062500 ]  \\      [  2.44346 rad ]\n",
      "∣ 8❭:\t-0.234923 +  0.085505 i\t == \t**                   [ 0.062500 ] +\\      [  2.79253 rad ]\n",
      "∣ 9❭:\t-0.250000 +  0.000000 i\t == \t**                   [ 0.062500 ] ---     [  3.14159 rad ]\n",
      "∣10❭:\t-0.234923 + -0.085505 i\t == \t**                   [ 0.062500 ] -/      [ -2.79253 rad ]\n",
      "∣11❭:\t-0.191511 + -0.160697 i\t == \t**                   [ 0.062500 ]  /      [ -2.44346 rad ]\n",
      "∣12❭:\t-0.125000 + -0.216506 i\t == \t**                   [ 0.062500 ]  /+     [ -2.09440 rad ]\n",
      "∣13❭:\t-0.043412 + -0.246202 i\t == \t**                   [ 0.062500 ]    ↓    [ -1.74533 rad ]\n",
      "∣14❭:\t 0.043412 + -0.246202 i\t == \t**                   [ 0.062500 ]    ↓    [ -1.39626 rad ]\n",
      "∣15❭:\t 0.125000 + -0.216506 i\t == \t**                   [ 0.062500 ]     -\\  [ -1.04720 rad ]\n"
     ]
    },
    {
     "data": {
      "application/json": "{\"@type\":\"tuple\"}",
      "text/plain": [
       "()"
      ]
     },
     "execution_count": 16,
     "metadata": {},
     "output_type": "execute_result"
    }
   ],
   "source": [
    "%simulate RotatingPhases"
   ]
  }
 ],
 "metadata": {
  "kernelspec": {
   "display_name": "Q#",
   "language": "qsharp",
   "name": "iqsharp"
  },
  "language_info": {
   "file_extension": ".qs",
   "mimetype": "text/x-qsharp",
   "name": "qsharp",
   "version": "0.4"
  }
 },
 "nbformat": 4,
 "nbformat_minor": 2
}
