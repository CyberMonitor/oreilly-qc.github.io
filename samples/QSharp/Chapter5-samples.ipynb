{
 "cells": [
  {
   "cell_type": "markdown",
   "metadata": {},
   "source": [
    "![(book cover)](https://covers.oreillystatic.com/images/0636920167433/cat.gif \"(book cover)\")\n",
    "### **Programming Quantum Computers** by O'Reilly Media -  [**book info**](http://shop.oreilly.com/product/0636920167433.do)  - [**all code samples**](https://oreilly-qc.github.io)\n",
    "\n",
    "### **Code samples for Chapter 5**\n",
    "These code samples were written by Mariia Mykhailova."
   ]
  },
  {
   "cell_type": "markdown",
   "metadata": {},
   "source": [
    "#### Example 5-1: Integer increment-by-one operation"
   ]
  },
  {
   "cell_type": "code",
   "execution_count": null,
   "metadata": {},
   "outputs": [],
   "source": [
    "// Example 5-1: Integer increment-by-one operation (circuit implementation)\n",
    "\n",
    "open Microsoft.Quantum.Diagnostics;\n",
    "\n",
    "// Circuit implementation of modular increment operation\n",
    "operation CircuitIncrement (register : Qubit[]) : Unit is Adj {\n",
    "    for (i in Length(register) - 1 .. -1 .. 0) {\n",
    "        Controlled X(register[0 .. i - 1], register[i]);\n",
    "    }\n",
    "}\n",
    "\n",
    "operation CircuitIncrementAndDecrement () : Unit {\n",
    "    // allocate the qubit register\n",
    "    using (register = Qubit[4]) {\n",
    "        // initialize the inputs\n",
    "        X(register[0]);\n",
    "        H(register[2]);\n",
    "        T(register[2]);\n",
    "        \n",
    "        DumpMachine(());\n",
    "        // note that at this point non-zero amplitudes are at the basis states |1❭ and |5❭\n",
    "\n",
    "        Message(\"Increment (circuit implementation)\");\n",
    "        Increment(register);\n",
    "        DumpMachine(());\n",
    "        // note that after incrementing the same amplitudes shifted to the basis states |5❭ and |6❭\n",
    "        \n",
    "        // decrement is an adjoint of increment, so we don't need to implement it separately\n",
    "        Message(\"Decrement (curcuit implementation)\");\n",
    "        Adjoint Increment(register);\n",
    "        DumpMachine(());\n",
    "        \n",
    "        // make sure the qubits are back to the |0❭ state\n",
    "        ResetAll(register);\n",
    "    }\n",
    "}"
   ]
  },
  {
   "cell_type": "code",
   "execution_count": null,
   "metadata": {
    "scrolled": true
   },
   "outputs": [],
   "source": [
    "%simulate CircuitIncrementAndDecrement"
   ]
  },
  {
   "cell_type": "code",
   "execution_count": null,
   "metadata": {},
   "outputs": [],
   "source": [
    "// Example 5-1: Integer increment-by-one operation (using library operation)\n",
    "\n",
    "open Microsoft.Quantum.Arithmetic;\n",
    "open Microsoft.Quantum.Diagnostics;\n",
    "\n",
    "operation LibraryIncrementAndDecrement () : Unit {\n",
    "    // allocate the qubit register\n",
    "    using (register = Qubit[4]) {\n",
    "        // initialize the inputs\n",
    "        X(register[0]);\n",
    "        H(register[2]);\n",
    "        T(register[2]);\n",
    "        \n",
    "        DumpMachine(());\n",
    "        // note that at this point non-zero amplitudes are at the basis states |1❭ and |5❭\n",
    "\n",
    "        // Increment the register using library implementation of the increment from Microsoft.Quantum.Arithmetic\n",
    "        Message(\"Increment (library implementation)\");\n",
    "        IncrementByInteger(1, LittleEndian(register));\n",
    "        DumpMachine(());\n",
    "\n",
    "        Message(\"Decrement (library implementation)\");\n",
    "        IncrementByInteger(-1, LittleEndian(register));\n",
    "        DumpMachine(());\n",
    "\n",
    "        // make sure the qubits are back to the |0❭ state\n",
    "        ResetAll(register);\n",
    "    }\n",
    "}"
   ]
  },
  {
   "cell_type": "code",
   "execution_count": null,
   "metadata": {
    "scrolled": true
   },
   "outputs": [],
   "source": [
    "%simulate LibraryIncrementAndDecrement"
   ]
  },
  {
   "cell_type": "markdown",
   "metadata": {},
   "source": [
    "#### Example 5-2: Adding two quantum integers"
   ]
  },
  {
   "cell_type": "code",
   "execution_count": null,
   "metadata": {
    "scrolled": true
   },
   "outputs": [],
   "source": [
    "%package Microsoft.Quantum.Numerics"
   ]
  },
  {
   "cell_type": "code",
   "execution_count": null,
   "metadata": {},
   "outputs": [],
   "source": [
    "// Example 5-2: Adding two quantum integers\n",
    "\n",
    "open Microsoft.Quantum.Diagnostics;\n",
    "\n",
    "// Open namespace which defines arithmetic operations\n",
    "open Microsoft.Quantum.Arithmetic;\n",
    "\n",
    "operation QuantumAddition () : Unit {\n",
    "    using ((a, b) = (Qubit[4], Qubit[2])) {\n",
    "        // Initialize the inputs\n",
    "        X(a[0]);\n",
    "        H(a[2]);\n",
    "        T(a[2]);\n",
    "        Message(\"Register a\");\n",
    "        DumpRegister((), a);\n",
    "        // At this point non-zero amplitudes of register a are at the basis states |1❭ and |5❭\n",
    "\n",
    "        X(b[0]);\n",
    "        H(b[1]);\n",
    "        T(b[1]);\n",
    "        Message(\"Register b\");\n",
    "        DumpRegister((), b);\n",
    "        // At this point non-zero amplitudes of register b are at the basis states |1❭ and |3❭\n",
    "\n",
    "        // The library operation AddI will add the first parameter to the second one\n",
    "        AddI(LittleEndian(b), LittleEndian(a));\n",
    "        \n",
    "        // Note that now the registers a and b are entangled, so you can not look at just the state of the register b.\n",
    "        Message(\"Stage of the system after computing a += b\");\n",
    "        DumpMachine(());\n",
    "        // The output of this operation is a bit tricky to decipher, since it represents both registers a and b.\n",
    "        // Register a is the lowest 4 bits of the overall state, and register b is the highest 2 bits.\n",
    "        // Thus, the non-zero amplitude 0.5 of the basis state |18❭ corresponds to the little-endian bit mask 010010,\n",
    "        // which can be split up into registers a and b as 0100 10, \n",
    "        // which in turn is converted to decimal numbers 2 and 1:\n",
    "        // the first number is the basis state of register a, storing the sum of basis states |1❭ and |1❭,\n",
    "        // and the second number is the input state of register b (|1❭).\n",
    "        // The amplitude of this state is a product of the amplitudes of the basis states |1❭ and |1❭ that were added, 1/sqrt(2) * 1/sqrt(2).\n",
    "        // The rest of the states can be traced in a similar way.\n",
    "        \n",
    "        // Make sure the qubits are back to the |0❭ state\n",
    "        ResetAll(a + b);\n",
    "    }\n",
    "}"
   ]
  },
  {
   "cell_type": "code",
   "execution_count": null,
   "metadata": {
    "scrolled": false
   },
   "outputs": [],
   "source": [
    "%simulate QuantumAddition"
   ]
  },
  {
   "cell_type": "markdown",
   "metadata": {},
   "source": [
    "#### Example 5-3: Some interesting arithmetic"
   ]
  },
  {
   "cell_type": "code",
   "execution_count": null,
   "metadata": {},
   "outputs": [],
   "source": [
    "// Example 5-3: Some interesting arithmetic\n",
    "\n",
    "open Microsoft.Quantum.Diagnostics;\n",
    "open Microsoft.Quantum.Arithmetic;\n",
    "\n",
    "operation AddBSquared () : Unit {\n",
    "    using ((a, b) = (Qubit[4], Qubit[2])) {\n",
    "        // Initialize the inputs\n",
    "        X(a[0]);\n",
    "        H(a[2]);\n",
    "        T(a[2]);\n",
    "        Message(\"Register a\");\n",
    "        DumpRegister((), a);\n",
    "        // At this point non-zero amplitudes of register a are at the basis states |1❭ and |5❭\n",
    "\n",
    "        X(b[0]);\n",
    "        H(b[1]);\n",
    "        T(b[1]);\n",
    "        Message(\"Register b\");\n",
    "        DumpRegister((), b);\n",
    "        // At this point non-zero amplitudes of register b are at the basis states |1❭ and |3❭\n",
    "\n",
    "        // Allocate extra qubits to hold the value of b² temporarily;\n",
    "        // note that the register has to have twice the number of qubits in register b.\n",
    "        using (anc = Qubit[4]) {\n",
    "            // Compute anc = b * b\n",
    "            SquareI(LittleEndian(b), LittleEndian(anc));\n",
    "            \n",
    "            // Compute a += anc\n",
    "            AddI(LittleEndian(anc), LittleEndian(a));\n",
    "            \n",
    "            // Uncompute the extra qubits, so that they can be released\n",
    "            Adjoint SquareI(LittleEndian(b), LittleEndian(anc));\n",
    "        }\n",
    "\n",
    "        // Note that now the registers a and b are entangled, so you can not look at just the state of the register b.\n",
    "        Message(\"Stage of the system after computing a += b * b\");\n",
    "        DumpMachine(());\n",
    "        // The output of this operation can be deciphered in a same way as the previous one:\n",
    "        // basis states |18❭ and |22❭ remain unchanged, since they correspond to the number 1 written in register b;\n",
    "        // basis state |58❭ corresponds to little-endian binary 010111, which represents b = 3 and a + b * b = 1 + 3² = 10,\n",
    "        // and basis state |62❭ is binary 011111, which is b = 3 and a + b * b = 5 + 3² = 14. \n",
    "        \n",
    "        // Make sure the qubits are back to the |0❭ state\n",
    "        ResetAll(a + b);\n",
    "    }\n",
    "}"
   ]
  },
  {
   "cell_type": "code",
   "execution_count": null,
   "metadata": {
    "scrolled": false
   },
   "outputs": [],
   "source": [
    "%simulate AddBSquared"
   ]
  },
  {
   "cell_type": "markdown",
   "metadata": {},
   "source": [
    "#### Example 5-4: Quantum-conditional execution"
   ]
  },
  {
   "cell_type": "code",
   "execution_count": null,
   "metadata": {},
   "outputs": [],
   "source": [
    "// Example 5-4: Quantum-conditional execution\n",
    "\n",
    "open Microsoft.Quantum.Diagnostics;\n",
    "open Microsoft.Quantum.Arithmetic;\n",
    "\n",
    "operation QuantumConditionalExecution () : Unit {\n",
    "    using ((a, b) = (Qubit[3], Qubit[3])) {\n",
    "        // Initialize the inputs\n",
    "        X(a[0]);\n",
    "        H(a[2]);\n",
    "        Message(\"Register a\");\n",
    "        DumpRegister((), a);\n",
    "        // At this point non-zero amplitudes of register a are at the basis states |1❭ and |5❭\n",
    "\n",
    "        X(b[0]);\n",
    "        H(b[1]);\n",
    "        T(b[1]);\n",
    "        Message(\"Register b\");\n",
    "        DumpRegister((), b);\n",
    "        // At this point non-zero amplitudes of register b are at the basis states |1❭ and |3❭\n",
    "\n",
    "        // a -= 3\n",
    "        IncrementByInteger(-3, LittleEndian(a));\n",
    "        \n",
    "        // if (a < 0) then b++;\n",
    "        (Controlled IncrementByInteger)([a[2]], (1, LittleEndian(b)));\n",
    "\n",
    "        // a += 3\n",
    "        IncrementByInteger(3, LittleEndian(a));\n",
    "        \n",
    "        // Note that now the registers a and b are entangled, so you can not look at just the state of the register b.\n",
    "        Message(\"Stage of the system after the computation\");\n",
    "        DumpMachine(());\n",
    "        \n",
    "        // Make sure the qubits are back to the |0❭ state\n",
    "        ResetAll(a + b);\n",
    "    }\n",
    "}"
   ]
  },
  {
   "cell_type": "code",
   "execution_count": null,
   "metadata": {
    "scrolled": false
   },
   "outputs": [],
   "source": [
    "%simulate QuantumConditionalExecution"
   ]
  },
  {
   "cell_type": "markdown",
   "metadata": {},
   "source": [
    "#### Example 5-5: Phase-encoding the result"
   ]
  },
  {
   "cell_type": "code",
   "execution_count": null,
   "metadata": {},
   "outputs": [],
   "source": [
    "// Example 5-5: Phase-encoding the result\n",
    "\n",
    "open Microsoft.Quantum.Diagnostics;\n",
    "open Microsoft.Quantum.Arithmetic;\n",
    "\n",
    "operation PhaseEncoding () : Unit {\n",
    "    using ((a, b) = (Qubit[3], Qubit[2])) {\n",
    "        // Initialize the inputs\n",
    "        H(a[0]);\n",
    "        H(a[1]);\n",
    "        Message(\"Register a\");\n",
    "        DumpRegister((), a);\n",
    "        // At this point non-zero amplitudes of register a are at the basis states |0❭, |1❭, |2❭, and |3❭\n",
    "\n",
    "        X(b[0]);\n",
    "        H(b[1]);\n",
    "        Message(\"Register b\");\n",
    "        DumpRegister((), b);\n",
    "        // At this point non-zero amplitudes of register b are at the basis states |1❭ and |3❭\n",
    "\n",
    "        Message(\"Complete state of the system\");\n",
    "        DumpMachine(());\n",
    "\n",
    "        // a -= 3\n",
    "        IncrementByInteger(-3, LittleEndian(a));\n",
    "        \n",
    "        // if (a < 0) and b == 1 then flip the phase\n",
    "        (ControlledOnInt(1, Z))(b, a[2]);\n",
    "\n",
    "        // a += 3\n",
    "        IncrementByInteger(3, LittleEndian(a));\n",
    "        \n",
    "        // Note that now the registers a and b are entangled, so you can not look at just the state of the register b.\n",
    "        Message(\"Stage of the system after the computation\");\n",
    "        DumpMachine(());\n",
    "        \n",
    "        // Make sure the qubits are back to the |0❭ state\n",
    "        ResetAll(a + b);\n",
    "    }\n",
    "}"
   ]
  },
  {
   "cell_type": "code",
   "execution_count": null,
   "metadata": {
    "scrolled": false
   },
   "outputs": [],
   "source": [
    "%simulate PhaseEncoding"
   ]
  },
  {
   "cell_type": "markdown",
   "metadata": {},
   "source": [
    "#### Example 5-6: Logic using CNOT gates"
   ]
  },
  {
   "cell_type": "code",
   "execution_count": null,
   "metadata": {
    "scrolled": true
   },
   "outputs": [],
   "source": [
    "// Example 5-6: Logic using CNOT gates\n",
    "\n",
    "open Microsoft.Quantum.Diagnostics;\n",
    "open Microsoft.Quantum.Measurement;\n",
    "\n",
    "operation CNOTLogic () : Unit {\n",
    "    Message(\"c = ~c\");\n",
    "    using (c = Qubit()) {\n",
    "        Message($\"Input: c = {M(c)}\");\n",
    "        X(c);\n",
    "        Message($\"Output: c = {M(c)}\");\n",
    "        ResetAll([c]);\n",
    "    }\n",
    "    \n",
    "    Message(\"\");\n",
    "    Message(\"if (b) then c = ~c\");\n",
    "    using ((b, c) = (Qubit(), Qubit())) {\n",
    "        // initialize input\n",
    "        X(b);\n",
    "        Message($\"Input: b = {M(b)}, c = {M(c)}\");\n",
    "        \n",
    "        CNOT(b, c);\n",
    "        Message($\"Output: b = {M(b)}, c = {M(c)}\");\n",
    "\n",
    "        ResetAll([b, c]);\n",
    "    }\n",
    "    \n",
    "    Message(\"\");\n",
    "    Message(\"if (a and b) then c = ~c\");\n",
    "    using ((a, b, c) = (Qubit(), Qubit(), Qubit())) {\n",
    "        // initialize input\n",
    "        X(a);\n",
    "        X(b);\n",
    "        Message($\"Input: a = {M(a)}, b = {M(b)}, c = {M(c)}\");\n",
    "        \n",
    "        (Controlled X)([a, b], c);\n",
    "        Message($\"Output: a = {M(a)}, b = {M(b)}, c = {M(c)}\");\n",
    "\n",
    "        ResetAll([a, b, c]);\n",
    "    }\n",
    "}"
   ]
  },
  {
   "cell_type": "code",
   "execution_count": null,
   "metadata": {
    "scrolled": false
   },
   "outputs": [],
   "source": [
    "%simulate CNOTLogic"
   ]
  }
 ],
 "metadata": {
  "kernelspec": {
   "display_name": "Q#",
   "language": "qsharp",
   "name": "iqsharp"
  },
  "language_info": {
   "file_extension": ".qs",
   "mimetype": "text/x-qsharp",
   "name": "qsharp",
   "version": "0.4"
  }
 },
 "nbformat": 4,
 "nbformat_minor": 2
}
