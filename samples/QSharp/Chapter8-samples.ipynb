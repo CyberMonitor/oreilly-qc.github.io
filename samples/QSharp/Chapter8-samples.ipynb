{
 "cells": [
  {
   "cell_type": "markdown",
   "metadata": {},
   "source": [
    "![(book cover)](https://covers.oreillystatic.com/images/0636920167433/cat.gif \"(book cover)\")\n",
    "# Programming Quantum Computers by O'Reilly Media -  [book info](http://shop.oreilly.com/product/0636920167433.do)  - [all code samples](https://oreilly-qc.github.io)\n",
    "\n",
    "## Code samples for Chapter 8\n",
    "These code samples were written by Mariia Mykhailova."
   ]
  },
  {
   "cell_type": "markdown",
   "metadata": {},
   "source": [
    "### Example 8-1: Using the phase estimation primitive"
   ]
  },
  {
   "cell_type": "code",
   "execution_count": 1,
   "metadata": {},
   "outputs": [
    {
     "data": {
      "application/json": "[\"HPower\",\"UsingQPE\"]",
      "text/html": [
       "<ul><li>HPower</li><li>UsingQPE</li></ul>"
      ],
      "text/plain": [
       "HPower, UsingQPE"
      ]
     },
     "execution_count": 1,
     "metadata": {},
     "output_type": "execute_result"
    }
   ],
   "source": [
    "// Example 8-1: Using the phase estimation primitive\n",
    "\n",
    "open Microsoft.Quantum.Arithmetic;\n",
    "open Microsoft.Quantum.Characterization;\n",
    "open Microsoft.Quantum.Convert;\n",
    "open Microsoft.Quantum.Diagnostics;\n",
    "open Microsoft.Quantum.Math;\n",
    "open Microsoft.Quantum.Oracles;\n",
    "\n",
    "// Helper operation to define powers of H gate\n",
    "operation HPower (power : Int, register : Qubit[]) : Unit is Adj + Ctl {\n",
    "    // We know that H² = I, so we just need to apply H if power is odd\n",
    "    if (power % 2 == 1) {\n",
    "        H(register[0]);\n",
    "    }\n",
    "}\n",
    "\n",
    "operation UsingQPE () : Unit {\n",
    "    let precision = 4;\n",
    "    // Allocate qubits to hold the eigenstate of H and the phase (in a big endian register)\n",
    "    using ((eigenstate, phaseRegister) = (Qubit[1], Qubit[precision])) {\n",
    "        // Prepare the eigenstate of H gate corresponding to eigenphase of 180°\n",
    "        // (for 0° we'd use 0.25 * PI() as rotation angle)\n",
    "        Ry(-0.75 * PI(), eigenstate[0]);\n",
    "        \n",
    "        // Call library implementation of quantum phase estimation\n",
    "        let phaseRegisterBE = BigEndian(phaseRegister);\n",
    "        let powerUnitary = DiscreteOracle(HPower);\n",
    "        QuantumPhaseEstimation(powerUnitary, eigenstate, phaseRegisterBE);\n",
    "        \n",
    "        // Read out the phase\n",
    "        let phase = IntAsDouble(MeasureInteger(BigEndianAsLittleEndian(phaseRegisterBE))) / IntAsDouble(1 <<< precision);\n",
    "        Message($\"Estimated phase = {phase * 360.0}°\");\n",
    "\n",
    "        ResetAll(eigenstate + phaseRegister);\n",
    "    }\n",
    "}"
   ]
  },
  {
   "cell_type": "code",
   "execution_count": 2,
   "metadata": {
    "scrolled": true
   },
   "outputs": [
    {
     "name": "stdout",
     "output_type": "stream",
     "text": [
      "Estimated phase = 180°\n"
     ]
    },
    {
     "data": {
      "application/json": "{\"@type\":\"tuple\"}",
      "text/plain": [
       "()"
      ]
     },
     "execution_count": 2,
     "metadata": {},
     "output_type": "execute_result"
    }
   ],
   "source": [
    "%simulate UsingQPE"
   ]
  },
  {
   "cell_type": "markdown",
   "metadata": {},
   "source": [
    "### Example 8-2: Implementation of the phase estimation primitive"
   ]
  },
  {
   "cell_type": "code",
   "execution_count": 3,
   "metadata": {
    "scrolled": true
   },
   "outputs": [
    {
     "data": {
      "application/json": "[\"ImplementingQPE\",\"QPE\",\"RotatePower\"]",
      "text/html": [
       "<ul><li>ImplementingQPE</li><li>QPE</li><li>RotatePower</li></ul>"
      ],
      "text/plain": [
       "ImplementingQPE, QPE, RotatePower"
      ]
     },
     "execution_count": 3,
     "metadata": {},
     "output_type": "execute_result"
    }
   ],
   "source": [
    "// Example 8-2: Implementation of the phase estimation primitive\n",
    "\n",
    "open Microsoft.Quantum.Arithmetic;\n",
    "open Microsoft.Quantum.Characterization;\n",
    "open Microsoft.Quantum.Convert;\n",
    "open Microsoft.Quantum.Diagnostics;\n",
    "open Microsoft.Quantum.Math;\n",
    "open Microsoft.Quantum.Oracles;\n",
    "\n",
    "operation QPE (powerUnitary : ((Int, Qubit[]) => Unit is Adj+Ctl), \n",
    "               eigenstate : Qubit[],\n",
    "               phaseRegister : Qubit[]) : Unit {\n",
    "    ApplyToEach(H, phaseRegister);\n",
    "    \n",
    "    // Apply conditional powers of U\n",
    "    for (i in 0 .. Length(phaseRegister) - 1) {\n",
    "        Controlled powerUnitary([phaseRegister[i]], (1 <<< i, eigenstate));\n",
    "    }\n",
    "    \n",
    "    QFTLE(LittleEndian(phaseRegister));\n",
    "}\n",
    "\n",
    "// Helper operation to define powers of the rotation gate\n",
    "operation RotatePower (power : Int, register : Qubit[]) : Unit is Adj + Ctl {\n",
    "    // To apply higher powers of the rotation gate, we can rotate by multiples of the angle\n",
    "    R1(-PI() * 5.0/6.0 * IntAsDouble(power), register[0]);\n",
    "}\n",
    "\n",
    "operation ImplementingQPE () : Unit {\n",
    "    let precision = 3;\n",
    "    // Allocate qubits to hold the eigenstate of H and the phase (in a big endian register)\n",
    "    using ((eigenstate, phaseRegister) = (Qubit[1], Qubit[precision])) {\n",
    "        // Prepare the eigenstate of the rotation gate corresponding to eigenphase of 150°;\n",
    "        // for R1 gate, that is simply a |1⟩\n",
    "        X(eigenstate[0]);\n",
    "        \n",
    "        // Call our implementation of quantum phase estimation\n",
    "        QPE(RotatePower, eigenstate, phaseRegister);\n",
    "        \n",
    "        // Inspect the state we obtain after applying QPE\n",
    "        DumpRegister((), phaseRegister);\n",
    "        \n",
    "        // Read out the phase\n",
    "        let phase = IntAsDouble(MeasureInteger(LittleEndian(phaseRegister))) / IntAsDouble(1 <<< precision);\n",
    "        Message($\"Estimated phase = {phase * 360.0}°\");\n",
    "\n",
    "        ResetAll(eigenstate + phaseRegister);\n",
    "    }\n",
    "}"
   ]
  },
  {
   "cell_type": "code",
   "execution_count": 4,
   "metadata": {
    "scrolled": true
   },
   "outputs": [
    {
     "name": "stdout",
     "output_type": "stream",
     "text": [
      "# wave function for qubits with ids (least to most significant): 1;2;3\n",
      "∣0❭:\t 0.108253 +  0.029006 i\t == \t*                    [ 0.012560 ]      /- [  0.26180 rad ]\n",
      "∣1❭:\t 0.135283 + -0.017810 i\t == \t*                    [ 0.018619 ]     --- [ -0.13090 rad ]\n",
      "∣2❭:\t 0.187500 + -0.108253 i\t == \t*                    [ 0.046875 ]      \\+ [ -0.52360 rad ]\n",
      "∣3❭:\t 0.504882 + -0.657975 i\t == \t**************       [ 0.687838 ]      \\  [ -0.91630 rad ]\n",
      "∣4❭:\t-0.108253 +  0.404006 i\t == \t****                 [ 0.174940 ]  \\-     [  1.83260 rad ]\n",
      "∣5❭:\t 0.023211 +  0.176304 i\t == \t*                    [ 0.031622 ]    ↑    [  1.43990 rad ]\n",
      "∣6❭:\t 0.062500 +  0.108253 i\t == \t*                    [ 0.015625 ]     +/  [  1.04720 rad ]\n",
      "∣7❭:\t 0.086624 +  0.066469 i\t == \t*                    [ 0.011922 ]      /  [  0.65450 rad ]\n",
      "Estimated phase = 180°\n"
     ]
    },
    {
     "data": {
      "application/json": "{\"@type\":\"tuple\"}",
      "text/plain": [
       "()"
      ]
     },
     "execution_count": 4,
     "metadata": {},
     "output_type": "execute_result"
    }
   ],
   "source": [
    "%simulate ImplementingQPE"
   ]
  }
 ],
 "metadata": {
  "kernelspec": {
   "display_name": "Q#",
   "language": "qsharp",
   "name": "iqsharp"
  },
  "language_info": {
   "file_extension": ".qs",
   "mimetype": "text/x-qsharp",
   "name": "qsharp",
   "version": "0.4"
  }
 },
 "nbformat": 4,
 "nbformat_minor": 2
}
