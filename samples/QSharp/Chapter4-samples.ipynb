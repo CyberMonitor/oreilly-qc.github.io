{
 "cells": [
  {
   "cell_type": "markdown",
   "metadata": {},
   "source": [
    "![(book cover)](https://covers.oreillystatic.com/images/0636920167433/cat.gif \"(book cover)\")\n",
    "# \"Programming Quantum Computers\" by O'Reilly Media -  [book info](http://shop.oreilly.com/product/0636920167433.do)  - [all code samples](https://oreilly-qc.github.io)\n",
    "\n",
    "## Code samples for Chapter 4\n",
    "These code samples were written by Mariia Mykhailova."
   ]
  },
  {
   "cell_type": "markdown",
   "metadata": {},
   "source": [
    "#### Example 4-1: Teleport and verify"
   ]
  },
  {
   "cell_type": "code",
   "execution_count": 1,
   "metadata": {},
   "outputs": [
    {
     "data": {
      "application/json": "[\"MeasureBellBasis\",\"PrepareBellState\",\"TeleportAndVerify\"]",
      "text/html": [
       "<ul><li>MeasureBellBasis</li><li>PrepareBellState</li><li>TeleportAndVerify</li></ul>"
      ],
      "text/plain": [
       "MeasureBellBasis, PrepareBellState, TeleportAndVerify"
      ]
     },
     "execution_count": 1,
     "metadata": {},
     "output_type": "execute_result"
    }
   ],
   "source": [
    "// Example 4-1: Teleport and verify\n",
    "\n",
    "open Microsoft.Quantum.Diagnostics;\n",
    "open Microsoft.Quantum.Measurement;\n",
    "\n",
    "// Helper operation to prepare Bell state on two qubits\n",
    "operation PrepareBellState (q1 : Qubit, q2 : Qubit) : Unit is Adj {\n",
    "    H(q1);\n",
    "    CNOT(q1, q2);\n",
    "}\n",
    "\n",
    "// Helper operation to perform measurement in Bell basis\n",
    "operation MeasureBellBasis (q1 : Qubit, q2 : Qubit) : (Result, Result) {\n",
    "    // convert the qubits from Bell basis to computational basis\n",
    "    Adjoint PrepareBellState(q1, q2);\n",
    "    // measure both qubits and return results\n",
    "    return (MResetZ(q1), MResetZ(q2));\n",
    "}\n",
    "\n",
    "operation TeleportAndVerify () : Unit {\n",
    "    // allocate the qubits: the pair that will be entangled and shared between Alice and Bob and Alice's data qubit\n",
    "    using ((aliceEPR, bobEPR, data) = (Qubit(), Qubit(), Qubit())) {\n",
    "        // prepare the data qubit in some superposition state\n",
    "        Ry(1.0, data);\n",
    "        Message(\"The state to be teleported:\");\n",
    "        DumpRegister((), [data]);\n",
    "        \n",
    "        // set up teleportation: prepare the entangled pair of qubits\n",
    "        PrepareBellState(aliceEPR, bobEPR);\n",
    "        \n",
    "        // Alice's part of the protocol\n",
    "        let message = MeasureBellBasis(data, aliceEPR);\n",
    "        \n",
    "        // Alice sends measurement results to Bob (no direct representation in Q# code)\n",
    "        \n",
    "        // let's observe the state of the system at this point\n",
    "        Message(\"\");\n",
    "        Message($\"Measurement results: {message}\");\n",
    "        Message(\"\");\n",
    "        Message(\"The state of Bob's qubit after Alice's measurement\");\n",
    "        DumpRegister((), [bobEPR]);\n",
    "        \n",
    "        // Bob applies fixup to his qubit based on the information he received from Alice\n",
    "        let (fix1, fix2) = message;\n",
    "        if (fix2 == One) {\n",
    "            X(bobEPR);\n",
    "        }\n",
    "        if (fix1 == One) {\n",
    "            Z(bobEPR);\n",
    "        }\n",
    "        \n",
    "        // regardless of measurement results, Bob's qubit is now in the required state!\n",
    "        Message(\"\");\n",
    "        Message(\"Teleportation result (the state of Bob's qubit)\");\n",
    "        DumpRegister((), [bobEPR]);\n",
    "\n",
    "        // to verify this, we can apply adjoint of the prep operation to Bob's qubit - the result will be |0❭\n",
    "        Adjoint Ry(1.0, bobEPR);\n",
    "        \n",
    "        // (if teleportation failed, the program will throw exception at this point)\n",
    "    }\n",
    "}"
   ]
  },
  {
   "cell_type": "code",
   "execution_count": 2,
   "metadata": {
    "scrolled": true
   },
   "outputs": [
    {
     "name": "stdout",
     "output_type": "stream",
     "text": [
      "The state to be teleported:\n",
      "# wave function for qubits with ids (least to most significant): 2\n",
      "∣0❭:\t 0.877583 +  0.000000 i\t == \t****************     [ 0.770151 ]     --- [  0.00000 rad ]\n",
      "∣1❭:\t 0.479426 +  0.000000 i\t == \t*****                [ 0.229849 ]     --- [  0.00000 rad ]\n",
      "\n",
      "Measurement results: (Zero, One)\n",
      "\n",
      "The state of Bob's qubit after Alice's measurement\n",
      "# wave function for qubits with ids (least to most significant): 1\n",
      "∣0❭:\t 0.479426 +  0.000000 i\t == \t*****                [ 0.229849 ]     --- [  0.00000 rad ]\n",
      "∣1❭:\t 0.877583 +  0.000000 i\t == \t****************     [ 0.770151 ]     --- [  0.00000 rad ]\n",
      "\n",
      "Teleportation result (the state of Bob's qubit)\n",
      "# wave function for qubits with ids (least to most significant): 1\n",
      "∣0❭:\t 0.877583 +  0.000000 i\t == \t****************     [ 0.770151 ]     --- [  0.00000 rad ]\n",
      "∣1❭:\t 0.479426 +  0.000000 i\t == \t*****                [ 0.229849 ]     --- [  0.00000 rad ]\n"
     ]
    },
    {
     "data": {
      "application/json": "{\"@type\":\"tuple\"}",
      "text/plain": [
       "()"
      ]
     },
     "execution_count": 2,
     "metadata": {},
     "output_type": "execute_result"
    }
   ],
   "source": [
    "%simulate TeleportAndVerify"
   ]
  }
 ],
 "metadata": {
  "kernelspec": {
   "display_name": "Q#",
   "language": "qsharp",
   "name": "iqsharp"
  },
  "language_info": {
   "file_extension": ".qs",
   "mimetype": "text/x-qsharp",
   "name": "qsharp",
   "version": "0.4"
  }
 },
 "nbformat": 4,
 "nbformat_minor": 2
}
