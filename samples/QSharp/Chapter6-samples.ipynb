{
 "cells": [
  {
   "cell_type": "markdown",
   "metadata": {},
   "source": [
    "![(book cover)](https://covers.oreillystatic.com/images/0636920167433/cat.gif \"(book cover)\")\n",
    "### **Programming Quantum Computers** by O'Reilly Media -  [**book info**](http://shop.oreilly.com/product/0636920167433.do)  - [**all code samples**](https://oreilly-qc.github.io)\n",
    "\n",
    "### **Code samples for Chapter 6**\n",
    "These code samples were written by Mariia Mykhailova."
   ]
  },
  {
   "cell_type": "markdown",
   "metadata": {},
   "source": [
    "#### Example 6-1: Applying the mirror subroutine to a flipped phase"
   ]
  },
  {
   "cell_type": "code",
   "execution_count": null,
   "metadata": {},
   "outputs": [],
   "source": [
    "// Example 6-1: Applying the mirror subroutine to a flipped phase\n",
    "\n",
    "open Microsoft.Quantum.Arrays;\n",
    "open Microsoft.Quantum.Convert;\n",
    "open Microsoft.Quantum.Diagnostics;\n",
    "\n",
    "// Operation that flips the sign of the marked value in the register\n",
    "operation Flip (markedValue : Int, register : Qubit[]) : Unit is Adj {\n",
    "    let bits = IntAsBoolArray(markedValue, Length(register));\n",
    "    ApplyPauliFromBitString(PauliX, false, bits, register);\n",
    "    Controlled Z(Most(register), Tail(register));\n",
    "    ApplyPauliFromBitString(PauliX, false, bits, register);    \n",
    "}\n",
    "\n",
    "// \"Mirror\" operation\n",
    "operation Mirror (register : Qubit[]) : Unit is Adj {\n",
    "    ApplyToEachA(H, register);\n",
    "    ApplyToEachA(X, register);\n",
    "    Controlled Z(Most(register), Tail(register));\n",
    "    ApplyToEachA(X, register);\n",
    "    ApplyToEachA(H, register);\n",
    "}\n",
    "\n",
    "operation OneIteration () : Unit {\n",
    "    let markedState = 3;\n",
    "    // Allocate the qubit register\n",
    "    using (register = Qubit[4]) {\n",
    "        // Prep\n",
    "        ApplyToEach(H, register);\n",
    "        \n",
    "        // Flip\n",
    "        Flip(markedState, register);\n",
    "        DumpMachine(());\n",
    "        // Note that at this point the marked state will have negative amplitude\n",
    "\n",
    "        // Mirror\n",
    "        Mirror(register);\n",
    "        DumpMachine(());\n",
    "        // Note that after mirroring step the probability of measuring the marked state \n",
    "        // (the first column in square brackets, also indicated by a row of asterisks before it)\n",
    "        // is larger than the others\n",
    "        \n",
    "        // Make sure the qubits are back to the |0❭ state\n",
    "        ResetAll(register);\n",
    "    }\n",
    "}"
   ]
  },
  {
   "cell_type": "code",
   "execution_count": null,
   "metadata": {
    "scrolled": false
   },
   "outputs": [],
   "source": [
    "%simulate OneIteration"
   ]
  },
  {
   "cell_type": "markdown",
   "metadata": {},
   "source": [
    "#### Example 6-2: Repeated amplitude amplification iterations"
   ]
  },
  {
   "cell_type": "code",
   "execution_count": null,
   "metadata": {},
   "outputs": [],
   "source": [
    "// Example 6-2: Repeated amplitude amplification iterations\n",
    "\n",
    "open Microsoft.Quantum.Arrays;\n",
    "open Microsoft.Quantum.Convert;\n",
    "open Microsoft.Quantum.Diagnostics;\n",
    "\n",
    "operation RepeatedIterations () : Unit {\n",
    "    let markedState = 3;\n",
    "    let numberOfIterations = 4;\n",
    "    // Allocate the qubit register\n",
    "    using (register = Qubit[4]) {\n",
    "        // Prep\n",
    "        ApplyToEach(H, register);\n",
    "        DumpMachine(());\n",
    "        \n",
    "        for (i in 1 .. numberOfIterations) {\n",
    "            Flip(markedState, register);\n",
    "            Mirror(register);\n",
    "            DumpMachine(());\n",
    "            // Observe how the probability of measuring the marked state changes after each iteration\n",
    "        }\n",
    "        \n",
    "        // Make sure the qubits are back to the |0❭ state\n",
    "        ResetAll(register);\n",
    "    }\n",
    "}"
   ]
  },
  {
   "cell_type": "code",
   "execution_count": null,
   "metadata": {
    "scrolled": true
   },
   "outputs": [],
   "source": [
    "%simulate RepeatedIterations"
   ]
  },
  {
   "cell_type": "markdown",
   "metadata": {},
   "source": [
    "### Example 6-3: Amplitude amplification iterations with multiple values flipped"
   ]
  },
  {
   "cell_type": "code",
   "execution_count": null,
   "metadata": {},
   "outputs": [],
   "source": [
    "// Example 6-3: Amplitude amplification iterations with multiple values flipped\n",
    "\n",
    "open Microsoft.Quantum.Arrays;\n",
    "open Microsoft.Quantum.Convert;\n",
    "open Microsoft.Quantum.Diagnostics;\n",
    "\n",
    "// Operation that flips the sign of multiple marked values\n",
    "operation FlipMultipleStates (markedValues : Int[], register : Qubit[]) : Unit is Adj {\n",
    "    ApplyToEachA(Flip(_, register), markedValues);\n",
    "}\n",
    "\n",
    "operation MultipleTerms () : Unit {\n",
    "    let markedStates = [0, 1, 2];\n",
    "    let numberOfIterations = 4;\n",
    "    // Allocate the qubit register\n",
    "    using (register = Qubit[4]) {\n",
    "        // Prep\n",
    "        ApplyToEach(H, register);\n",
    "        \n",
    "        for (i in 1 .. numberOfIterations) {\n",
    "            // Flip\n",
    "            FlipMultipleStates(markedStates, register);\n",
    "            // Mirror\n",
    "            Mirror(register);\n",
    "            DumpMachine(());\n",
    "        }\n",
    "        \n",
    "        // Make sure the qubits are back to the |0❭ state\n",
    "        ResetAll(register);\n",
    "    }\n",
    "}"
   ]
  },
  {
   "cell_type": "code",
   "execution_count": null,
   "metadata": {
    "scrolled": true
   },
   "outputs": [],
   "source": [
    "%simulate MultipleTerms"
   ]
  }
 ],
 "metadata": {
  "kernelspec": {
   "display_name": "Q#",
   "language": "qsharp",
   "name": "iqsharp"
  },
  "language_info": {
   "file_extension": ".qs",
   "mimetype": "text/x-qsharp",
   "name": "qsharp",
   "version": "0.4"
  }
 },
 "nbformat": 4,
 "nbformat_minor": 2
}
