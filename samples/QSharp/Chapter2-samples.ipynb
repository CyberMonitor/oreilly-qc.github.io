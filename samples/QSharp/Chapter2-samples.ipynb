{
 "cells": [
  {
   "cell_type": "code",
   "execution_count": 7,
   "metadata": {},
   "outputs": [
    {
     "data": {
      "application/json": "[\"QRNG\"]",
      "text/html": [
       "<ul><li>QRNG</li></ul>"
      ],
      "text/plain": [
       "QRNG"
      ]
     },
     "execution_count": 7,
     "metadata": {},
     "output_type": "execute_result"
    }
   ],
   "source": [
    "operation QRNG () : Result {\n",
    "    // allocate one qubit\n",
    "    using(q = Qubit()){\n",
    "        // place it into superposition of 0 and 1\n",
    "        H(q);\n",
    "\n",
    "        // read the qubit and return the result\n",
    "        let result = M(q);\n",
    "        \n",
    "        // Make sure the qubit is back to the 0 state\n",
    "        Reset(q);\n",
    "        \n",
    "        return result;\n",
    "    }\n",
    "}"
   ]
  },
  {
   "cell_type": "code",
   "execution_count": 8,
   "metadata": {},
   "outputs": [
    {
     "data": {
      "application/json": "0",
      "text/plain": [
       "Zero"
      ]
     },
     "execution_count": 8,
     "metadata": {},
     "output_type": "execute_result"
    }
   ],
   "source": [
    "%simulate QRNG"
   ]
  }
 ],
 "metadata": {
  "kernelspec": {
   "display_name": "Q#",
   "language": "qsharp",
   "name": "iqsharp"
  },
  "language_info": {
   "file_extension": ".qs",
   "mimetype": "text/x-qsharp",
   "name": "qsharp",
   "version": "0.4"
  }
 },
 "nbformat": 4,
 "nbformat_minor": 2
}
